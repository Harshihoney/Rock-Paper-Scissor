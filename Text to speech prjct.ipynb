{
 "cells": [
  {
   "cell_type": "code",
   "execution_count": null,
   "id": "49ef3816",
   "metadata": {},
   "outputs": [
    {
     "name": "stderr",
     "output_type": "stream",
     "text": [
      "Exception in Tkinter callback\n",
      "Traceback (most recent call last):\n",
      "  File \"C:\\Users\\manik\\anaconda3\\lib\\tkinter\\__init__.py\", line 1892, in __call__\n",
      "    return self.func(*args)\n",
      "  File \"C:\\Users\\manik\\AppData\\Local\\Temp/ipykernel_17680/3106545343.py\", line 43, in Text_to_speech\n",
      "    speech.save('DataFlair.mp3')\n",
      "  File \"C:\\Users\\manik\\anaconda3\\lib\\site-packages\\gtts\\tts.py\", line 328, in save\n",
      "    with open(str(savefile), \"wb\") as f:\n",
      "PermissionError: [Errno 13] Permission denied: 'DataFlair.mp3'\n"
     ]
    }
   ],
   "source": [
    "## import libraries\n",
    "\n",
    "from tkinter import *\n",
    "from gtts import gTTS\n",
    "from playsound import playsound\n",
    "\n",
    "\n",
    "\n",
    "################### Initialized window####################\n",
    "\n",
    "root = Tk()\n",
    "root.geometry('350x300')\n",
    "root.resizable(0,0)\n",
    "root.config(bg = 'ghost white')\n",
    "root.title('DataFlair - TEXT_TO_SPEECH')\n",
    "\n",
    "\n",
    "##heading\n",
    "Label(root, text = 'TEXT_TO_SPEECH' , font='arial 20 bold' , bg ='white smoke').pack()\n",
    "Label(root, text ='DataFlair' , font ='arial 15 bold', bg = 'white smoke').pack(side = BOTTOM)\n",
    "\n",
    "\n",
    "\n",
    "\n",
    "#label\n",
    "Label(root, text ='Enter Text', font ='arial 15 bold', bg ='white smoke').place(x=20,y=60)\n",
    "\n",
    "\n",
    "##text variable\n",
    "Msg = StringVar()\n",
    "\n",
    "\n",
    "#Entry\n",
    "entry_field = Entry(root,textvariable =Msg, width ='50')\n",
    "entry_field.place(x=20 , y=100)\n",
    "\n",
    "\n",
    "###################define function##############################\n",
    "\n",
    "def Text_to_speech():\n",
    "    Message = entry_field.get()\n",
    "    speech = gTTS(text = Message)\n",
    "    speech.save('DataFlair.mp3')\n",
    "    playsound('DataFlair.mp3')\n",
    "\n",
    "def Exit():\n",
    "    root.destroy()\n",
    "\n",
    "def Reset():\n",
    "    Msg.set(\"\")\n",
    "\n",
    "#Button\n",
    "Button(root, text = \"PLAY\" , font = 'arial 15 bold', command = Text_to_speech, width =4).place(x=25, y=140)\n",
    "Button(root,text = 'EXIT',font = 'arial 15 bold' , command = Exit, bg = 'OrangeRed1').place(x=100,y=140)\n",
    "Button(root, text = 'RESET', font='arial 15 bold', command = Reset).place(x=175 , y =140)\n",
    "\n",
    "\n",
    "#infinite loop to run program\n",
    "root.mainloop()\n"
   ]
  },
  {
   "cell_type": "code",
   "execution_count": null,
   "id": "77267d91",
   "metadata": {},
   "outputs": [],
   "source": [
    "from gtts mport"
   ]
  }
 ],
 "metadata": {
  "kernelspec": {
   "display_name": "Python 3 (ipykernel)",
   "language": "python",
   "name": "python3"
  },
  "language_info": {
   "codemirror_mode": {
    "name": "ipython",
    "version": 3
   },
   "file_extension": ".py",
   "mimetype": "text/x-python",
   "name": "python",
   "nbconvert_exporter": "python",
   "pygments_lexer": "ipython3",
   "version": "3.9.7"
  }
 },
 "nbformat": 4,
 "nbformat_minor": 5
}
